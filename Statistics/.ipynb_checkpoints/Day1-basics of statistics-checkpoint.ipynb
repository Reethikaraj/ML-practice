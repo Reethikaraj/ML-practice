{
 "cells": [
  {
   "cell_type": "markdown",
   "id": "c5275718",
   "metadata": {},
   "source": [
    "## Statisctics Introduction"
   ]
  },
  {
   "cell_type": "markdown",
   "id": "514624a5",
   "metadata": {},
   "source": [
    "$\\text{Q. What is statistics?} $\n",
    "\n",
    "     It is a science of collecting, organizing and analyzing data for a better decision making.\n",
    "\n",
    "$\\text{Q. What is data?} $ \n",
    "\n",
    "     Facts or pieces of information that can be measured.\n",
    "\n",
    "$\\text{Q. Types of statisctics? } $  \n",
    "\n",
    "     Descriptive stats - Organizing and Summarizing data. Performed on Population(N). eg: Mean, median, mode, average etc. \n",
    "\n",
    "     Inferential stats - Technique used on the data to form some conclusions. Performed on sample(n). eg: Are the ages of this    class similar to the other class? Data of the whole school is population and data of a particular class is sample.\n",
    "   \n",
    "$\n",
    "\\text{Q. Types of sampling techniques? } \n",
    "$   \n",
    "   \n",
    "     1. Random sampling - Pickup randomly. All the elements have equal probability to get selected.\n",
    "\n",
    "     2. Strategic sampling - Divide population into non overlapping groups and pickup the sample.\n",
    "   \n",
    "     3. Systematic sampling - Every nth element of the data is selected. Every 3rd element. \n",
    "   \n",
    "     4. Convenient sampling - Sampling is performed only on the people who are experts of that area. \n",
    "\n"
   ]
  },
  {
   "cell_type": "markdown",
   "id": "837e21eb",
   "metadata": {},
   "source": [
    "## Variables"
   ]
  },
  {
   "cell_type": "markdown",
   "id": "25e13436",
   "metadata": {},
   "source": [
    "$\n",
    "\\text{Q. What is a variable?  } \n",
    "$\n",
    "\n",
    "     Variable is a property that can take any value"
   ]
  },
  {
   "cell_type": "markdown",
   "id": "f35f3a41",
   "metadata": {},
   "source": [
    "$\n",
    "\\text{Q. What are the types of variable? } \n",
    "$\n",
    "\n",
    "     1. Quantitative - Can be measured numerically. eg: age, height etc\n",
    "                      a. Discrete - Whole numbers - No. of bank accounts of a person, No. of children in a family. \n",
    "                      b. Continuous - Decimal values - Height, Weight etc.\n",
    "\n",
    "     2. Qualitative or Categorical - Can be divided into groups based on some characteristics. eg: men, women.\n",
    "   "
   ]
  },
  {
   "cell_type": "markdown",
   "id": "a956cc3e",
   "metadata": {},
   "source": [
    "$\n",
    "\\text{Q. What are types of Variable measurement scales?  } \n",
    "$\n",
    "       1. Nominal - \n",
    "       2. Ordinal -\n",
    "       3. Interval -\n",
    "       4. Ratio -\n",
    "\n"
   ]
  }
 ],
 "metadata": {
  "kernelspec": {
   "display_name": "Python 3 (ipykernel)",
   "language": "python",
   "name": "python3"
  },
  "language_info": {
   "codemirror_mode": {
    "name": "ipython",
    "version": 3
   },
   "file_extension": ".py",
   "mimetype": "text/x-python",
   "name": "python",
   "nbconvert_exporter": "python",
   "pygments_lexer": "ipython3",
   "version": "3.11.2"
  }
 },
 "nbformat": 4,
 "nbformat_minor": 5
}
