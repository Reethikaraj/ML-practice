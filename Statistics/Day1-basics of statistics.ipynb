{
 "cells": [
  {
   "cell_type": "markdown",
   "id": "c5275718",
   "metadata": {},
   "source": [
    "## Statisctics Introduction"
   ]
  },
  {
   "cell_type": "markdown",
   "id": "514624a5",
   "metadata": {},
   "source": [
    "$\\text{Q. What is statistics?} $\n",
    "\n",
    "     It is a science of collecting, organizing and analyzing data for a better decision making.\n",
    "\n",
    "$\\text{Q. What is data?} $ \n",
    "\n",
    "     Facts or pieces of information that can be measured.\n",
    "\n",
    "$\\text{Q. Types of statisctics? } $  \n",
    "\n",
    "     Descriptive stats - Organizing and Summarizing data. Performed on Population(N). eg: Mean, median, mode, average etc. \n",
    "\n",
    "     Inferential stats - Technique used on the data to form some conclusions. Performed on sample(n). eg: Are the ages of this    class similar to the other class? Data of the whole school is population and data of a particular class is sample.\n",
    "   \n",
    "$\n",
    "\\text{Q. Types of sampling techniques? } \n",
    "$   \n",
    "   \n",
    "     1. Random sampling - Pickup randomly. All the elements have equal probability to get selected.\n",
    "\n",
    "     2. Strategic sampling - Divide population into non overlapping groups and pickup the sample.\n",
    "   \n",
    "     3. Systematic sampling - Every nth element of the data is selected. Every 3rd element. \n",
    "   \n",
    "     4. Convenient sampling - Sampling is performed only on the people who are experts of that area. \n",
    "\n"
   ]
  },
  {
   "cell_type": "markdown",
   "id": "4f96b421",
   "metadata": {},
   "source": [
    "## Variables"
   ]
  },
  {
   "cell_type": "markdown",
   "id": "03b6dc12",
   "metadata": {},
   "source": [
    "$\n",
    "\\text{Q. What is a variable?  } \n",
    "$\n",
    "\n",
    "     Variable is a property that can take any value"
   ]
  },
  {
   "cell_type": "markdown",
   "id": "032792d6",
   "metadata": {},
   "source": [
    "$\n",
    "\\text{Q. What are the types of variable? } \n",
    "$\n",
    "\n",
    "     1. Quantitative - Can be measured numerically. eg: age, height etc\n",
    "                      a. Discrete - Whole numbers - No. of bank accounts of a person, No. of children in a family. \n",
    "                      b. Continuous - Decimal values - Height, Weight etc.\n",
    "\n",
    "     2. Qualitative or Categorical - Can be divided into groups based on some characteristics. eg: men, women.\n",
    "   "
   ]
  },
  {
   "cell_type": "markdown",
   "id": "e43750a0",
   "metadata": {},
   "source": [
    "$\n",
    "\\text{Q. What are types of Variable measurement scales?  } \n",
    "$\n",
    "       \n",
    "       1. Nominal - Categorical data - gender, color etc\n",
    "       \n",
    "       2. Ordinal - The order of the data matters but value does not. eg: Rank.  \n",
    "       \n",
    "       3. Interval - Order and value both matter. Range like 70-80, 80-90, 90-100 etc. 0 is not considered or present. \n",
    "       \n",
    "       4. Ratio -\n",
    "\n"
   ]
  },
  {
   "cell_type": "markdown",
   "id": "ced5afb8",
   "metadata": {},
   "source": [
    "## Frequency Distribution "
   ]
  },
  {
   "cell_type": "markdown",
   "id": "519a60f8",
   "metadata": {},
   "source": [
    "$\n",
    "\\text{Q. What are frequency? Types of frequency?  } \n",
    "$\n",
    "\n",
    "        The number of times an item is occuring is frequency.\n",
    "        1. Normal frequency - Rose - 3, Lily - 2, Jasmine - 5\n",
    "        2. Cumulative frequency - We keep adding the frequencies. Rose - 3, Lily - 5, Jasmine -10. \n",
    "           We get total no. of flowers by the end."
   ]
  },
  {
   "cell_type": "markdown",
   "id": "2f5a794c",
   "metadata": {},
   "source": [
    "$\n",
    "\\text{Q. What are types of graphs? For which variables are they used?  } \n",
    "$\n",
    "\n",
    "       1. Bar chart - Used for discrete variables.\n",
    "       2. Histogram - Same like bar chart but we divide the balues into bins. Continuous variables. y-axis -> frequency, \n",
    "                      x-axis -> bin of size 10 (bin size can be changed). \n",
    "                      pdf (probability density function) is smoothening of histogram. \n",
    "          \n",
    "       3. \n",
    "       "
   ]
  }
 ],
 "metadata": {
  "kernelspec": {
   "display_name": "Python 3 (ipykernel)",
   "language": "python",
   "name": "python3"
  },
  "language_info": {
   "codemirror_mode": {
    "name": "ipython",
    "version": 3
   },
   "file_extension": ".py",
   "mimetype": "text/x-python",
   "name": "python",
   "nbconvert_exporter": "python",
   "pygments_lexer": "ipython3",
   "version": "3.11.2"
  }
 },
 "nbformat": 4,
 "nbformat_minor": 5
}
