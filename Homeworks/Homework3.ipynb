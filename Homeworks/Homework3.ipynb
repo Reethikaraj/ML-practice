{
 "cells": [
  {
   "cell_type": "markdown",
   "id": "c7798d48",
   "metadata": {},
   "source": [
    "### Importing libraries"
   ]
  },
  {
   "cell_type": "code",
   "execution_count": 5,
   "id": "79540ebb",
   "metadata": {},
   "outputs": [],
   "source": [
    "import numpy as np\n",
    "import pandas as pd\n",
    "import seaborn as sns\n",
    "import random"
   ]
  },
  {
   "cell_type": "markdown",
   "id": "d969bd49",
   "metadata": {},
   "source": [
    "### Reading data"
   ]
  },
  {
   "cell_type": "code",
   "execution_count": 4,
   "id": "311dc5ca",
   "metadata": {},
   "outputs": [],
   "source": [
    "# Suppose we have a dataset that shows the number of bedrooms and the selling price for 20 houses in a particular neighborhood\n",
    "\n",
    "Bedrooms = [1,1,1,2,2,2,2,3,3,3,3,3,3,3,4,4,4,5,5,6]\n",
    "Prices = [120,133,139,185,148,160,192,205,244,213,236,280,275,273,312,311,304,415,396,488]\n"
   ]
  },
  {
   "cell_type": "markdown",
   "id": "8ef7fe46",
   "metadata": {},
   "source": [
    "### Creating the data frame"
   ]
  },
  {
   "cell_type": "code",
   "execution_count": 6,
   "id": "17151b17",
   "metadata": {},
   "outputs": [
    {
     "data": {
      "text/html": [
       "<div>\n",
       "<style scoped>\n",
       "    .dataframe tbody tr th:only-of-type {\n",
       "        vertical-align: middle;\n",
       "    }\n",
       "\n",
       "    .dataframe tbody tr th {\n",
       "        vertical-align: top;\n",
       "    }\n",
       "\n",
       "    .dataframe thead th {\n",
       "        text-align: right;\n",
       "    }\n",
       "</style>\n",
       "<table border=\"1\" class=\"dataframe\">\n",
       "  <thead>\n",
       "    <tr style=\"text-align: right;\">\n",
       "      <th></th>\n",
       "      <th>Bedrooms</th>\n",
       "      <th>Prices</th>\n",
       "    </tr>\n",
       "  </thead>\n",
       "  <tbody>\n",
       "    <tr>\n",
       "      <th>0</th>\n",
       "      <td>1</td>\n",
       "      <td>120</td>\n",
       "    </tr>\n",
       "    <tr>\n",
       "      <th>1</th>\n",
       "      <td>1</td>\n",
       "      <td>133</td>\n",
       "    </tr>\n",
       "    <tr>\n",
       "      <th>2</th>\n",
       "      <td>1</td>\n",
       "      <td>139</td>\n",
       "    </tr>\n",
       "    <tr>\n",
       "      <th>3</th>\n",
       "      <td>2</td>\n",
       "      <td>185</td>\n",
       "    </tr>\n",
       "    <tr>\n",
       "      <th>4</th>\n",
       "      <td>2</td>\n",
       "      <td>148</td>\n",
       "    </tr>\n",
       "  </tbody>\n",
       "</table>\n",
       "</div>"
      ],
      "text/plain": [
       "   Bedrooms  Prices\n",
       "0         1     120\n",
       "1         1     133\n",
       "2         1     139\n",
       "3         2     185\n",
       "4         2     148"
      ]
     },
     "execution_count": 6,
     "metadata": {},
     "output_type": "execute_result"
    }
   ],
   "source": [
    "df = pd.DataFrame(list(zip(Bedrooms, Prices)),columns =['Bedrooms', 'Prices'])\n",
    "df.head()"
   ]
  },
  {
   "cell_type": "markdown",
   "id": "88e53c01",
   "metadata": {},
   "source": [
    "### Q1.\n",
    "Using the Bedrooms data points:\n",
    "* Extract a random sample of size 10\n",
    "* Compute the mean and standard deviation of the sample\n",
    "* Compute the the mean of the population\n",
    "* Computer the confidence interval of 95% using the sample \n",
    "* Check if the population mean lies between the upper and lower bounds of the interval\n"
   ]
  },
  {
   "cell_type": "markdown",
   "id": "4ff42806",
   "metadata": {},
   "source": [
    "#### Extract a random sample of size 10"
   ]
  },
  {
   "cell_type": "code",
   "execution_count": 7,
   "id": "90a7b80f",
   "metadata": {},
   "outputs": [
    {
     "data": {
      "text/html": [
       "<div>\n",
       "<style scoped>\n",
       "    .dataframe tbody tr th:only-of-type {\n",
       "        vertical-align: middle;\n",
       "    }\n",
       "\n",
       "    .dataframe tbody tr th {\n",
       "        vertical-align: top;\n",
       "    }\n",
       "\n",
       "    .dataframe thead th {\n",
       "        text-align: right;\n",
       "    }\n",
       "</style>\n",
       "<table border=\"1\" class=\"dataframe\">\n",
       "  <thead>\n",
       "    <tr style=\"text-align: right;\">\n",
       "      <th></th>\n",
       "      <th>Bedrooms</th>\n",
       "      <th>Prices</th>\n",
       "    </tr>\n",
       "  </thead>\n",
       "  <tbody>\n",
       "    <tr>\n",
       "      <th>3</th>\n",
       "      <td>2</td>\n",
       "      <td>185</td>\n",
       "    </tr>\n",
       "    <tr>\n",
       "      <th>19</th>\n",
       "      <td>6</td>\n",
       "      <td>488</td>\n",
       "    </tr>\n",
       "    <tr>\n",
       "      <th>8</th>\n",
       "      <td>3</td>\n",
       "      <td>244</td>\n",
       "    </tr>\n",
       "    <tr>\n",
       "      <th>4</th>\n",
       "      <td>2</td>\n",
       "      <td>148</td>\n",
       "    </tr>\n",
       "    <tr>\n",
       "      <th>14</th>\n",
       "      <td>4</td>\n",
       "      <td>312</td>\n",
       "    </tr>\n",
       "    <tr>\n",
       "      <th>5</th>\n",
       "      <td>2</td>\n",
       "      <td>160</td>\n",
       "    </tr>\n",
       "    <tr>\n",
       "      <th>6</th>\n",
       "      <td>2</td>\n",
       "      <td>192</td>\n",
       "    </tr>\n",
       "    <tr>\n",
       "      <th>11</th>\n",
       "      <td>3</td>\n",
       "      <td>280</td>\n",
       "    </tr>\n",
       "    <tr>\n",
       "      <th>2</th>\n",
       "      <td>1</td>\n",
       "      <td>139</td>\n",
       "    </tr>\n",
       "    <tr>\n",
       "      <th>18</th>\n",
       "      <td>5</td>\n",
       "      <td>396</td>\n",
       "    </tr>\n",
       "  </tbody>\n",
       "</table>\n",
       "</div>"
      ],
      "text/plain": [
       "    Bedrooms  Prices\n",
       "3          2     185\n",
       "19         6     488\n",
       "8          3     244\n",
       "4          2     148\n",
       "14         4     312\n",
       "5          2     160\n",
       "6          2     192\n",
       "11         3     280\n",
       "2          1     139\n",
       "18         5     396"
      ]
     },
     "execution_count": 7,
     "metadata": {},
     "output_type": "execute_result"
    }
   ],
   "source": [
    "random_sample = df.sample(n=10)\n",
    "random_sample"
   ]
  },
  {
   "cell_type": "markdown",
   "id": "269781f9",
   "metadata": {},
   "source": [
    "#### Compute the mean and standard deviation of the sample"
   ]
  },
  {
   "cell_type": "code",
   "execution_count": 15,
   "id": "441552b9",
   "metadata": {},
   "outputs": [
    {
     "name": "stdout",
     "output_type": "stream",
     "text": [
      "Mean of the sample: \n",
      "Bedrooms      3.0\n",
      "Prices      254.4\n",
      "dtype: float64\n",
      "\n",
      "Standard deviation of the sample: \n",
      "Bedrooms      1.563472\n",
      "Prices      115.931206\n",
      "dtype: float64\n"
     ]
    }
   ],
   "source": [
    "sample_mean = random_sample.mean()\n",
    "print(f\"Mean of the sample: \\n{sample_mean}\\n\")\n",
    "sample_std = random_sample.std()\n",
    "print(f\"Standard deviation of the sample: \\n{sample_std}\")"
   ]
  },
  {
   "cell_type": "markdown",
   "id": "488e8e9f",
   "metadata": {},
   "source": [
    "#### Compute the the mean of the population"
   ]
  },
  {
   "cell_type": "code",
   "execution_count": 16,
   "id": "a1110a44",
   "metadata": {},
   "outputs": [
    {
     "data": {
      "text/plain": [
       "Bedrooms      3.00\n",
       "Prices      251.45\n",
       "dtype: float64"
      ]
     },
     "execution_count": 16,
     "metadata": {},
     "output_type": "execute_result"
    }
   ],
   "source": [
    "population_mean = df.mean()\n",
    "population_mean"
   ]
  },
  {
   "cell_type": "markdown",
   "id": "f270bfa0",
   "metadata": {},
   "source": [
    "#### Computer the confidence interval of 95% using the sample"
   ]
  },
  {
   "cell_type": "code",
   "execution_count": 19,
   "id": "5918228b",
   "metadata": {},
   "outputs": [
    {
     "name": "stdout",
     "output_type": "stream",
     "text": [
      "Lower limit: \n",
      "Bedrooms      2.314778\n",
      "Prices      203.590909\n",
      "dtype: float64\n",
      "Upper limit: \n",
      "Bedrooms      3.685222\n",
      "Prices      305.209091\n",
      "dtype: float64\n"
     ]
    }
   ],
   "source": [
    "import math\n",
    "# z-score for 95% confidence level is 1.96\n",
    "sample_size = random_sample.size\n",
    "z = 1.96\n",
    "LCL = sample_mean - z*(sample_std/math.sqrt(sample_size))\n",
    "UCL = sample_mean + z*(sample_std/math.sqrt(sample_size))\n",
    "print(f\"Lower limit: \\n{LCL}\")\n",
    "print(f\"Upper limit: \\n{UCL}\")"
   ]
  },
  {
   "cell_type": "markdown",
   "id": "7fd5c4cd",
   "metadata": {},
   "source": [
    "### Q2.\n",
    "Using both of the Bedrooms and the Prices:\n",
    "* Compute the covariance and the correlation between the two variables\n",
    "* Build a regression model and estimate the regression parameters (slope and intercept).\n",
    "* Predict the house price for a house with 7 rooms\n",
    "* Estimate the upper bound and the lower bounds of the prediction interval of a house with 7 rooms\n",
    "    \n",
    "      Alpha = 0.1\n",
    "      N = 20\n",
    "      Df = N-2\n"
   ]
  },
  {
   "cell_type": "markdown",
   "id": "0d784e4c",
   "metadata": {},
   "source": [
    "#### Compute the covariance and the correlation between the two variables"
   ]
  },
  {
   "cell_type": "code",
   "execution_count": 23,
   "id": "81abf06c",
   "metadata": {},
   "outputs": [
    {
     "name": "stdout",
     "output_type": "stream",
     "text": [
      "Covariance: \n",
      "            Bedrooms        Prices\n",
      "Bedrooms    1.894737    133.894737\n",
      "Prices    133.894737  10016.155263\n",
      "\n",
      "Correlation: \n",
      "          Bedrooms    Prices\n",
      "Bedrooms  1.000000  0.971938\n",
      "Prices    0.971938  1.000000\n"
     ]
    }
   ],
   "source": [
    "covariance = df.cov()\n",
    "print(f\"Covariance: \\n{covariance}\\n\")\n",
    "correlation = df.corr(method=\"pearson\")\n",
    "print(f\"Correlation: \\n{correlation}\")"
   ]
  },
  {
   "cell_type": "code",
   "execution_count": 24,
   "id": "c7b6e738",
   "metadata": {},
   "outputs": [
    {
     "data": {
      "text/plain": [
       "<seaborn.axisgrid.PairGrid at 0x18c3e1a6d50>"
      ]
     },
     "execution_count": 24,
     "metadata": {},
     "output_type": "execute_result"
    },
    {
     "data": {
      "image/png": "[encoded data removed]",
      "text/plain": [
       "<Figure size 500x500 with 6 Axes>"
      ]
     },
     "metadata": {},
     "output_type": "display_data"
    }
   ],
   "source": [
    "sns.pairplot(df)"
   ]
  },
  {
   "cell_type": "markdown",
   "id": "38a5fabf",
   "metadata": {},
   "source": [
    "#### Build a regression model and estimate the regression parameters (slope and intercept)."
   ]
  },
  {
   "cell_type": "code",
   "execution_count": 34,
   "id": "86f2fe2d",
   "metadata": {},
   "outputs": [
    {
     "name": "stdout",
     "output_type": "stream",
     "text": [
      "Coefficient of determination: 0.94\n",
      "Intercept: 39.45\n",
      "Slope: 70.67\n"
     ]
    }
   ],
   "source": [
    "from sklearn.linear_model import LinearRegression\n",
    "from scipy.stats import t\n",
    "\n",
    "x = np.array(Bedrooms).reshape((-1, 1))\n",
    "y = np.array(Prices)\n",
    "\n",
    "model = LinearRegression().fit(x, y)\n",
    "\n",
    "r_sq = model.score(x, y)\n",
    "print(f\"Coefficient of determination: {round(r_sq, 2)}\")\n",
    "\n",
    "print(f\"Intercept: {round(model.intercept_, 2)}\")\n",
    "print(f\"Slope: {round(model.coef_[0], 2)}\")"
   ]
  },
  {
   "cell_type": "markdown",
   "id": "ee1eaace",
   "metadata": {},
   "source": [
    "#### Predict the house price for a house with 7 rooms"
   ]
  },
  {
   "cell_type": "code",
   "execution_count": 35,
   "id": "4ecfd8f9",
   "metadata": {},
   "outputs": [
    {
     "name": "stdout",
     "output_type": "stream",
     "text": [
      "Price for 7 bedroom house could be: 534.12\n"
     ]
    }
   ],
   "source": [
    "y_pred_7 = float(model.predict(np.array([[7]])).round(2))\n",
    "print(f\"Price for 7 bedroom house could be: {y_pred_7}\")"
   ]
  },
  {
   "cell_type": "markdown",
   "id": "eb27e408",
   "metadata": {},
   "source": [
    "#### Estimate the upper bound and the lower bounds of the prediction interval of a house with 7 rooms"
   ]
  },
  {
   "cell_type": "markdown",
   "id": "a4f81962",
   "metadata": {},
   "source": [
    "Standard error - se\n",
    "* se_regression = np.sqrt(np.square(y - y_pred).sum()/(n-2))\n",
    "* se = np.sqrt((np.square(y - y_pred).sum()/(n-2)) * (1+ (1/n) + np.square(value - x_mean)/np.square(x - x_mean).sum()))"
   ]
  },
  {
   "cell_type": "code",
   "execution_count": 45,
   "id": "0cbd6331",
   "metadata": {},
   "outputs": [
    {
     "name": "stdout",
     "output_type": "stream",
     "text": [
      "Prediction interval for 7 bedroom house:\n",
      "LCL: 482.8454\n",
      "UCL: 585.3946\n"
     ]
    }
   ],
   "source": [
    "from scipy.stats import t \n",
    "\n",
    "value = 7\n",
    "alpha = 0.1\n",
    "n = 20\n",
    "t_value = t.ppf(1-alpha/2, df=n-2)\n",
    "\n",
    "y_pred_7\n",
    "x_mean = np.mean(x)\n",
    "y_mean = np.mean(y)\n",
    "\n",
    "y_hat = model.predict(x).round(4)\n",
    "\n",
    "se = np.sqrt(np.square(y-y_hat).sum()/(n-2))\n",
    "se *= np.sqrt((1+(1/n)+((np.square(value-x.mean()))/(np.square(x-x.mean()).sum()))))\n",
    "\n",
    "interval = t_value * se\n",
    "\n",
    "LCL = round(y_pred_7 - interval, 4)\n",
    "UCL = round(y_pred_7 + interval, 4)\n",
    "\n",
    "print(\"Prediction interval for 7 bedroom house:\")\n",
    "print(f\"LCL: {LCL}\")\n",
    "print(f\"UCL: {UCL}\")"
   ]
  },
  {
   "cell_type": "markdown",
   "id": "37f4929d",
   "metadata": {},
   "source": [
    "### Q3\n",
    "\n",
    "Using as sample of houses that have only 3 bedrooms \n",
    "* Try to find the lower price that can be payed for a house with 3 rooms using Tolerance interval\n",
    "* Try  to find the highest price that can be payed for a house with 3 rooms using Tolerance interval\n",
    "* Basically, find the tolerance interval\n"
   ]
  },
  {
   "cell_type": "code",
   "execution_count": 51,
   "id": "175ac710",
   "metadata": {},
   "outputs": [
    {
     "data": {
      "text/html": [
       "<div>\n",
       "<style scoped>\n",
       "    .dataframe tbody tr th:only-of-type {\n",
       "        vertical-align: middle;\n",
       "    }\n",
       "\n",
       "    .dataframe tbody tr th {\n",
       "        vertical-align: top;\n",
       "    }\n",
       "\n",
       "    .dataframe thead th {\n",
       "        text-align: right;\n",
       "    }\n",
       "</style>\n",
       "<table border=\"1\" class=\"dataframe\">\n",
       "  <thead>\n",
       "    <tr style=\"text-align: right;\">\n",
       "      <th></th>\n",
       "      <th>Bedrooms</th>\n",
       "      <th>Prices</th>\n",
       "    </tr>\n",
       "  </thead>\n",
       "  <tbody>\n",
       "    <tr>\n",
       "      <th>7</th>\n",
       "      <td>3</td>\n",
       "      <td>205</td>\n",
       "    </tr>\n",
       "    <tr>\n",
       "      <th>8</th>\n",
       "      <td>3</td>\n",
       "      <td>244</td>\n",
       "    </tr>\n",
       "    <tr>\n",
       "      <th>9</th>\n",
       "      <td>3</td>\n",
       "      <td>213</td>\n",
       "    </tr>\n",
       "    <tr>\n",
       "      <th>10</th>\n",
       "      <td>3</td>\n",
       "      <td>236</td>\n",
       "    </tr>\n",
       "    <tr>\n",
       "      <th>11</th>\n",
       "      <td>3</td>\n",
       "      <td>280</td>\n",
       "    </tr>\n",
       "    <tr>\n",
       "      <th>12</th>\n",
       "      <td>3</td>\n",
       "      <td>275</td>\n",
       "    </tr>\n",
       "    <tr>\n",
       "      <th>13</th>\n",
       "      <td>3</td>\n",
       "      <td>273</td>\n",
       "    </tr>\n",
       "  </tbody>\n",
       "</table>\n",
       "</div>"
      ],
      "text/plain": [
       "    Bedrooms  Prices\n",
       "7          3     205\n",
       "8          3     244\n",
       "9          3     213\n",
       "10         3     236\n",
       "11         3     280\n",
       "12         3     275\n",
       "13         3     273"
      ]
     },
     "execution_count": 51,
     "metadata": {},
     "output_type": "execute_result"
    }
   ],
   "source": [
    "# Sample of 3 bedrooms\n",
    "\n",
    "sample_3_bedroom = df[(df.Bedrooms==3)]\n",
    "sample_3_bedroom"
   ]
  },
  {
   "cell_type": "code",
   "execution_count": 62,
   "id": "b6b5ae0d",
   "metadata": {},
   "outputs": [
    {
     "data": {
      "text/plain": [
       "Bedrooms      3.000000\n",
       "Prices      246.571429\n",
       "dtype: float64"
      ]
     },
     "execution_count": 62,
     "metadata": {},
     "output_type": "execute_result"
    }
   ],
   "source": [
    "sample_3_bedroom.mean()"
   ]
  },
  {
   "cell_type": "code",
   "execution_count": 53,
   "id": "095b4a6f",
   "metadata": {},
   "outputs": [
    {
     "name": "stdout",
     "output_type": "stream",
     "text": [
      "3.0\n",
      "0.0\n"
     ]
    }
   ],
   "source": [
    "x1 = sample_3_bedroom[\"Bedrooms\"]\n",
    "y1 = sample_3_bedroom[\"Prices\"]\n",
    "mean_3_bedroom = x1.mean()\n",
    "print(mean_3_bedroom)\n",
    "std_3_bedroom = x1.std()\n",
    "print(std_3_bedroom)"
   ]
  },
  {
   "cell_type": "code",
   "execution_count": 60,
   "id": "8541491c",
   "metadata": {},
   "outputs": [
    {
     "name": "stdout",
     "output_type": "stream",
     "text": [
      "Lower Tolerance Interval: 246.57142857142858\n",
      "Upper Tolerance Interval: 246.57142857142858\n"
     ]
    }
   ],
   "source": [
    "alpha = 0.1\n",
    "df = 18 #sample_size - 2\n",
    "k1 = t.ppf(alpha / 2, df)\n",
    "k2 = t.ppf(1 - alpha / 2, df)\n",
    "LTL = y1.mean() - (k1 * std_3_bedroom)\n",
    "UTL = y1.mean() + (k2 * std_3_bedroom)\n",
    "print(f\"Lower Tolerance Interval: {LTL}\")\n",
    "print(f\"Upper Tolerance Interval: {UTL}\")"
   ]
  },
  {
   "cell_type": "code",
   "execution_count": null,
   "id": "72453b7f",
   "metadata": {},
   "outputs": [],
   "source": []
  }
 ],
 "metadata": {
  "kernelspec": {
   "display_name": "Python 3 (ipykernel)",
   "language": "python",
   "name": "python3"
  },
  "language_info": {
   "codemirror_mode": {
    "name": "ipython",
    "version": 3
   },
   "file_extension": ".py",
   "mimetype": "text/x-python",
   "name": "python",
   "nbconvert_exporter": "python",
   "pygments_lexer": "ipython3",
   "version": "3.11.2"
  }
 },
 "nbformat": 4,
 "nbformat_minor": 5
}
