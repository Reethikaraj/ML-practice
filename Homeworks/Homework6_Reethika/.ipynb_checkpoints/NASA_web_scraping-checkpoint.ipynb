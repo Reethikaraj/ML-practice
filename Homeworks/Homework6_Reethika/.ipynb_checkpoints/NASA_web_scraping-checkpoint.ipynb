{
 "cells": [
  {
   "cell_type": "markdown",
   "id": "11a07082",
   "metadata": {},
   "source": [
    "## Nasa Satellite images:\n",
    "\n",
    "Suppose we want to build a Computer vision dataset that involves satellite images.\n",
    "\n",
    "Your tasks are the following:\n",
    "- Collect satellite images from  https://earthobservatory.nasa.gov/images\n",
    " - Make sure to render the whole page using selenium and then use BeautifulSoup to scrape the data.\n",
    " - Create a repo and name it Images, Save the crowled images based on their titles. \n",
    " - Create a dictionary where the keys are the images/titles and the values are the images’ descriptions."
   ]
  },
  {
   "cell_type": "code",
   "execution_count": null,
   "id": "1b0322bc",
   "metadata": {},
   "outputs": [],
   "source": []
  }
 ],
 "metadata": {
  "kernelspec": {
   "display_name": "Python 3 (ipykernel)",
   "language": "python",
   "name": "python3"
  },
  "language_info": {
   "codemirror_mode": {
    "name": "ipython",
    "version": 3
   },
   "file_extension": ".py",
   "mimetype": "text/x-python",
   "name": "python",
   "nbconvert_exporter": "python",
   "pygments_lexer": "ipython3",
   "version": "3.11.2"
  }
 },
 "nbformat": 4,
 "nbformat_minor": 5
}
