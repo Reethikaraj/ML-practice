{
 "cells": [
  {
   "cell_type": "markdown",
   "id": "5703905a",
   "metadata": {},
   "source": [
    "green color - default = edit mode\n",
    "\n",
    "blue color - esc = command mode\n",
    "\n",
    "esc+h = Gives the list of all shorcuts\n",
    "\n",
    "esc+a = empty cell above\n",
    "\n",
    "esc+b = empty cell below\n",
    "\n",
    "esc+d+d = delete a cell\n",
    "\n",
    "shift+enter = run a cell \n",
    "\n",
    "tab = autocomplete\n",
    "\n",
    "shift+tab = description of a method\n"
   ]
  },
  {
   "cell_type": "code",
   "execution_count": null,
   "id": "1c62f3cc",
   "metadata": {},
   "outputs": [],
   "source": []
  }
 ],
 "metadata": {
  "kernelspec": {
   "display_name": "Python 3 (ipykernel)",
   "language": "python",
   "name": "python3"
  },
  "language_info": {
   "codemirror_mode": {
    "name": "ipython",
    "version": 3
   },
   "file_extension": ".py",
   "mimetype": "text/x-python",
   "name": "python",
   "nbconvert_exporter": "python",
   "pygments_lexer": "ipython3",
   "version": "3.11.2"
  }
 },
 "nbformat": 4,
 "nbformat_minor": 5
}
