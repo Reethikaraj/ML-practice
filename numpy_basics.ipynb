{
 "cells": [
  {
   "cell_type": "code",
   "execution_count": 1,
   "id": "b887aaaf",
   "metadata": {},
   "outputs": [
    {
     "name": "stdout",
     "output_type": "stream",
     "text": [
      "Collecting numpy\n",
      "  Downloading numpy-1.24.2-cp311-cp311-win_amd64.whl (14.8 MB)\n",
      "     ---------------------------------------- 0.0/14.8 MB ? eta -:--:--\n",
      "      --------------------------------------- 0.2/14.8 MB 5.8 MB/s eta 0:00:03\n",
      "     - -------------------------------------- 0.7/14.8 MB 8.6 MB/s eta 0:00:02\n",
      "     ---- ----------------------------------- 1.6/14.8 MB 13.0 MB/s eta 0:00:02\n",
      "     ------ --------------------------------- 2.5/14.8 MB 13.3 MB/s eta 0:00:01\n",
      "     --------- ------------------------------ 3.4/14.8 MB 15.7 MB/s eta 0:00:01\n",
      "     ----------- ---------------------------- 4.4/14.8 MB 16.3 MB/s eta 0:00:01\n",
      "     ------------- -------------------------- 5.1/14.8 MB 16.3 MB/s eta 0:00:01\n",
      "     -------------- ------------------------- 5.4/14.8 MB 15.0 MB/s eta 0:00:01\n",
      "     ------------------ --------------------- 6.7/14.8 MB 16.6 MB/s eta 0:00:01\n",
      "     -------------------- ------------------- 7.7/14.8 MB 16.9 MB/s eta 0:00:01\n",
      "     ----------------------- ---------------- 8.6/14.8 MB 17.3 MB/s eta 0:00:01\n",
      "     ------------------------- -------------- 9.5/14.8 MB 17.4 MB/s eta 0:00:01\n",
      "     --------------------------- ----------- 10.4/14.8 MB 18.2 MB/s eta 0:00:01\n",
      "     ----------------------------- --------- 11.4/14.8 MB 19.3 MB/s eta 0:00:01\n",
      "     -------------------------------- ------ 12.3/14.8 MB 19.3 MB/s eta 0:00:01\n",
      "     ---------------------------------- ---- 13.2/14.8 MB 19.3 MB/s eta 0:00:01\n",
      "     ------------------------------------- - 14.1/14.8 MB 19.2 MB/s eta 0:00:01\n",
      "     --------------------------------------  14.8/14.8 MB 19.3 MB/s eta 0:00:01\n",
      "     --------------------------------------- 14.8/14.8 MB 17.2 MB/s eta 0:00:00\n",
      "Installing collected packages: numpy\n",
      "Successfully installed numpy-1.24.2\n"
     ]
    }
   ],
   "source": [
    "!pip install numpy"
   ]
  },
  {
   "cell_type": "code",
   "execution_count": 4,
   "id": "83a38b7a",
   "metadata": {},
   "outputs": [
    {
     "name": "stdout",
     "output_type": "stream",
     "text": [
      "<class 'numpy.ndarray'> <class 'list'>\n",
      "[1 2 3 4 5 6]\n",
      "(6,)\n"
     ]
    }
   ],
   "source": [
    "import numpy as np\n",
    "\n",
    "my_list = [1,2,3,4,5,6]\n",
    "arr = np.array(my_list)\n",
    "\n",
    "print(type(arr), type(my_list))\n",
    "print(arr)\n",
    "print(arr.shape)"
   ]
  },
  {
   "cell_type": "code",
   "execution_count": 10,
   "id": "65cc312a",
   "metadata": {},
   "outputs": [
    {
     "name": "stdout",
     "output_type": "stream",
     "text": [
      "[[1 2 3 0]\n",
      " [4 5 6 0]\n",
      " [7 8 9 0]]\n",
      "(3, 4)\n"
     ]
    }
   ],
   "source": [
    "arr2 = np.array([[1,2,3,0],[4,5,6,0],[7,8,9,0]])\n",
    "print(arr2)\n",
    "print(arr2.shape)"
   ]
  },
  {
   "cell_type": "code",
   "execution_count": 11,
   "id": "287342ee",
   "metadata": {},
   "outputs": [
    {
     "data": {
      "text/plain": [
       "array([[1, 2, 3],\n",
       "       [0, 4, 5],\n",
       "       [6, 0, 7],\n",
       "       [8, 9, 0]])"
      ]
     },
     "execution_count": 11,
     "metadata": {},
     "output_type": "execute_result"
    }
   ],
   "source": [
    "# To convert the dimensions -> .reshape\n",
    "arr2.reshape(4,3)"
   ]
  },
  {
   "cell_type": "code",
   "execution_count": 12,
   "id": "89a2447c",
   "metadata": {},
   "outputs": [
    {
     "data": {
      "text/plain": [
       "array([[1, 2, 3, 0, 4, 5],\n",
       "       [6, 0, 7, 8, 9, 0]])"
      ]
     },
     "execution_count": 12,
     "metadata": {},
     "output_type": "execute_result"
    }
   ],
   "source": [
    "arr2.reshape(2,6)"
   ]
  },
  {
   "cell_type": "code",
   "execution_count": 15,
   "id": "3037958f",
   "metadata": {},
   "outputs": [
    {
     "data": {
      "text/plain": [
       "array([[1, 2, 3, 0],\n",
       "       [4, 5, 6, 0],\n",
       "       [7, 8, 9, 0]])"
      ]
     },
     "execution_count": 15,
     "metadata": {},
     "output_type": "execute_result"
    }
   ],
   "source": [
    "arr2"
   ]
  },
  {
   "cell_type": "code",
   "execution_count": 13,
   "id": "154f36e4",
   "metadata": {},
   "outputs": [
    {
     "data": {
      "text/plain": [
       "array([1, 2, 3, 0])"
      ]
     },
     "execution_count": 13,
     "metadata": {},
     "output_type": "execute_result"
    }
   ],
   "source": [
    "arr2[0]"
   ]
  },
  {
   "cell_type": "code",
   "execution_count": 14,
   "id": "074259ba",
   "metadata": {},
   "outputs": [
    {
     "data": {
      "text/plain": [
       "array([[1, 2],\n",
       "       [4, 5]])"
      ]
     },
     "execution_count": 14,
     "metadata": {},
     "output_type": "execute_result"
    }
   ],
   "source": [
    "# array_name[from_row:to_row(excluded), from_column:to_column(excluded)]\n",
    "arr2[0:2,0:2]"
   ]
  },
  {
   "cell_type": "code",
   "execution_count": 16,
   "id": "feb6b891",
   "metadata": {},
   "outputs": [
    {
     "data": {
      "text/plain": [
       "array([[0],\n",
       "       [0],\n",
       "       [0]])"
      ]
     },
     "execution_count": 16,
     "metadata": {},
     "output_type": "execute_result"
    }
   ],
   "source": [
    "arr2[0:3,3:4]"
   ]
  },
  {
   "cell_type": "code",
   "execution_count": 18,
   "id": "887cab87",
   "metadata": {},
   "outputs": [
    {
     "data": {
      "text/plain": [
       "array([0, 2, 4, 6, 8])"
      ]
     },
     "execution_count": 18,
     "metadata": {},
     "output_type": "execute_result"
    }
   ],
   "source": [
    "# np.arrange(from,to,step(gap))\n",
    "arr = np.arange(0,10,2)\n",
    "arr"
   ]
  },
  {
   "cell_type": "code",
   "execution_count": 19,
   "id": "9b843b47",
   "metadata": {},
   "outputs": [
    {
     "data": {
      "text/plain": [
       "array([ 1.        ,  1.18367347,  1.36734694,  1.55102041,  1.73469388,\n",
       "        1.91836735,  2.10204082,  2.28571429,  2.46938776,  2.65306122,\n",
       "        2.83673469,  3.02040816,  3.20408163,  3.3877551 ,  3.57142857,\n",
       "        3.75510204,  3.93877551,  4.12244898,  4.30612245,  4.48979592,\n",
       "        4.67346939,  4.85714286,  5.04081633,  5.2244898 ,  5.40816327,\n",
       "        5.59183673,  5.7755102 ,  5.95918367,  6.14285714,  6.32653061,\n",
       "        6.51020408,  6.69387755,  6.87755102,  7.06122449,  7.24489796,\n",
       "        7.42857143,  7.6122449 ,  7.79591837,  7.97959184,  8.16326531,\n",
       "        8.34693878,  8.53061224,  8.71428571,  8.89795918,  9.08163265,\n",
       "        9.26530612,  9.44897959,  9.63265306,  9.81632653, 10.        ])"
      ]
     },
     "execution_count": 19,
     "metadata": {},
     "output_type": "execute_result"
    }
   ],
   "source": [
    "# np.linspace(1-from,10-to,50-num of points)\n",
    "np.linspace(1,10,50)"
   ]
  },
  {
   "cell_type": "code",
   "execution_count": null,
   "id": "c8d08bbd",
   "metadata": {},
   "outputs": [],
   "source": []
  }
 ],
 "metadata": {
  "kernelspec": {
   "display_name": "Python 3 (ipykernel)",
   "language": "python",
   "name": "python3"
  },
  "language_info": {
   "codemirror_mode": {
    "name": "ipython",
    "version": 3
   },
   "file_extension": ".py",
   "mimetype": "text/x-python",
   "name": "python",
   "nbconvert_exporter": "python",
   "pygments_lexer": "ipython3",
   "version": "3.11.2"
  }
 },
 "nbformat": 4,
 "nbformat_minor": 5
}
