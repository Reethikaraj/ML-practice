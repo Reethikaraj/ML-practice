{
 "cells": [
  {
   "cell_type": "code",
   "execution_count": 1,
   "id": "1f62e31d",
   "metadata": {},
   "outputs": [
    {
     "data": {
      "text/plain": [
       "[1, 2, 3]"
      ]
     },
     "execution_count": 1,
     "metadata": {},
     "output_type": "execute_result"
    }
   ],
   "source": [
    "list1 = [1,2,3]\n",
    "list1"
   ]
  },
  {
   "cell_type": "code",
   "execution_count": 2,
   "id": "9f298899",
   "metadata": {},
   "outputs": [
    {
     "data": {
      "text/plain": [
       "['a', 1, {'b': 3}]"
      ]
     },
     "execution_count": 2,
     "metadata": {},
     "output_type": "execute_result"
    }
   ],
   "source": [
    "list2 = [\"a\", 1, {\"b\":3}]\n",
    "list2"
   ]
  },
  {
   "cell_type": "code",
   "execution_count": 4,
   "id": "9ea112c6",
   "metadata": {},
   "outputs": [
    {
     "data": {
      "text/plain": [
       "[0, 1, 2, 3, 4, 5, 6, 7, 8, 9]"
      ]
     },
     "execution_count": 4,
     "metadata": {},
     "output_type": "execute_result"
    }
   ],
   "source": [
    "#1 dimensional list\n",
    "list3 = [i for i in range (10)] \n",
    "list3"
   ]
  },
  {
   "cell_type": "code",
   "execution_count": 6,
   "id": "5e4c2625",
   "metadata": {},
   "outputs": [
    {
     "data": {
      "text/plain": [
       "[[0, 1, 2, 3, 4],\n",
       " [0, 1, 2, 3, 4],\n",
       " [0, 1, 2, 3, 4],\n",
       " [0, 1, 2, 3, 4],\n",
       " [0, 1, 2, 3, 4],\n",
       " [0, 1, 2, 3, 4],\n",
       " [0, 1, 2, 3, 4],\n",
       " [0, 1, 2, 3, 4],\n",
       " [0, 1, 2, 3, 4],\n",
       " [0, 1, 2, 3, 4]]"
      ]
     },
     "execution_count": 6,
     "metadata": {},
     "output_type": "execute_result"
    }
   ],
   "source": [
    "# 2 dimensional array\n",
    "list4 = [[j for j in range(5) ] for i in range (10)]\n",
    "list4"
   ]
  },
  {
   "cell_type": "code",
   "execution_count": 8,
   "id": "d81c0607",
   "metadata": {},
   "outputs": [
    {
     "data": {
      "text/plain": [
       "[[1, 2, 1, 2, 1],\n",
       " [1, 2, 1, 2, 1],\n",
       " [1, 2, 1, 2, 1],\n",
       " [1, 2, 1, 2, 1],\n",
       " [1, 2, 1, 2, 1],\n",
       " [1, 2, 1, 2, 1],\n",
       " [1, 2, 1, 2, 1],\n",
       " [1, 2, 1, 2, 1],\n",
       " [1, 2, 1, 2, 1],\n",
       " [1, 2, 1, 2, 1]]"
      ]
     },
     "execution_count": 8,
     "metadata": {},
     "output_type": "execute_result"
    }
   ],
   "source": [
    "list5 = [[(j%2 + 1)for j in range(5) ] for i in range (10)]\n",
    "list5"
   ]
  },
  {
   "cell_type": "code",
   "execution_count": 14,
   "id": "a78e437c",
   "metadata": {},
   "outputs": [
    {
     "data": {
      "text/plain": [
       "[[0, 1, 2, 3, 4],\n",
       " [1, 2, 3, 4, 5],\n",
       " [2, 3, 4, 5, 6],\n",
       " [3, 4, 5, 6, 7],\n",
       " [4, 5, 6, 7, 8],\n",
       " [5, 6, 7, 8, 9],\n",
       " [6, 7, 8, 9, 10],\n",
       " [7, 8, 9, 10, 11],\n",
       " [8, 9, 10, 11, 12],\n",
       " [9, 10, 11, 12, 13]]"
      ]
     },
     "execution_count": 14,
     "metadata": {},
     "output_type": "execute_result"
    }
   ],
   "source": [
    "list6 = [[(j+i)for j in range(5) ] for i in range (10)]\n",
    "list6"
   ]
  },
  {
   "cell_type": "code",
   "execution_count": 15,
   "id": "12d552b2",
   "metadata": {},
   "outputs": [
    {
     "data": {
      "text/plain": [
       "[[0, 1, 2], [3, 4, 5], [6, 7, 8]]"
      ]
     },
     "execution_count": 15,
     "metadata": {},
     "output_type": "execute_result"
    }
   ],
   "source": [
    "# Top create a 2d array like a 3*3 matrix\n",
    "list7 = [[(3*i+j)for j in range(3) ] for i in range (3)]\n",
    "list7"
   ]
  },
  {
   "cell_type": "code",
   "execution_count": 26,
   "id": "2d3d58c7",
   "metadata": {},
   "outputs": [
    {
     "name": "stdout",
     "output_type": "stream",
     "text": [
      "Enter the number of rows: 3\n",
      "Enter the number of columns: 2\n",
      "Enter the elements of martix: \n",
      "1 2 3 4 5 6\n",
      "List in 1 dimensional:  [1, 2, 3, 4, 5, 6]\n",
      "List in 2 dimensional:  [[1, 2], [3, 4], [5, 6]]\n"
     ]
    }
   ],
   "source": [
    "# Taking input from console\n",
    "\n",
    "R = int(input(\"Enter the number of rows: \"))\n",
    "C = int(input(\"Enter the number of columns: \"))\n",
    "print(\"Enter the elements of martix: \")\n",
    "list = [int(x) for x in input().split()]\n",
    "print(\"List in 1 dimensional: \", list)\n",
    "\n",
    "#To convert 1 dimensional list to 2 dimensional list:\n",
    "list2 = []\n",
    "for i in range (R):\n",
    "    list2.append([])\n",
    "      #print(list2)\n",
    "    for j in range (C):\n",
    "        list2[i].append(list[C*i+j])\n",
    "          #print(list2)\n",
    "print(\"List in 2 dimensional: \",list2)"
   ]
  },
  {
   "cell_type": "code",
   "execution_count": null,
   "id": "367a3275",
   "metadata": {},
   "outputs": [],
   "source": []
  }
 ],
 "metadata": {
  "kernelspec": {
   "display_name": "Python 3 (ipykernel)",
   "language": "python",
   "name": "python3"
  },
  "language_info": {
   "codemirror_mode": {
    "name": "ipython",
    "version": 3
   },
   "file_extension": ".py",
   "mimetype": "text/x-python",
   "name": "python",
   "nbconvert_exporter": "python",
   "pygments_lexer": "ipython3",
   "version": "3.11.2"
  }
 },
 "nbformat": 4,
 "nbformat_minor": 5
}
