{
 "cells": [
  {
   "cell_type": "markdown",
   "id": "594ef32b",
   "metadata": {},
   "source": [
    "# Introduction"
   ]
  },
  {
   "cell_type": "markdown",
   "id": "92e2acb6",
   "metadata": {},
   "source": [
    "Q. What is Machine learning?\n",
    "\n",
    "     Machine learning (ML) is a field of inquiry devoted to understanding and building methods that \"learn\" – that is, methods that leverage data to improve performance on some set of tasks.\n",
    "     Machine learning algorithms build a model based on sample data, known as training data, in order to make predictions or decisions without being explicitly programmed to do so.\n",
    "     \n",
    "Q. What are steps of ML?\n",
    "\n",
    "      1. Collection of data\n",
    "      2. Data preparation or cleaning - Handling missing data and outliers\n",
    "      3. Choosing ML model\n",
    "      4. Training the model\n",
    "      5. Evaluating the model\n",
    "      6. Parametr tuning - going back and handling missing data in a different way\n",
    "      7. Make predictions\n",
    "      \n",
    "Q. What are applications of ML?\n",
    "\n",
    "      1. Self driving cars - \n",
    "      Tesla -  Don't use lydar since those cameras are big,\n",
    "      Waymo (Google) - works with lydar(like how bat bird has it's vision) and image recognition techniques, \n",
    "      2. Face recognition\n",
    "      "
   ]
  }
 ],
 "metadata": {
  "kernelspec": {
   "display_name": "Python 3 (ipykernel)",
   "language": "python",
   "name": "python3"
  },
  "language_info": {
   "codemirror_mode": {
    "name": "ipython",
    "version": 3
   },
   "file_extension": ".py",
   "mimetype": "text/x-python",
   "name": "python",
   "nbconvert_exporter": "python",
   "pygments_lexer": "ipython3",
   "version": "3.11.2"
  }
 },
 "nbformat": 4,
 "nbformat_minor": 5
}
